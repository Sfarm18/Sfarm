{
 "cells": [
  {
   "cell_type": "code",
   "execution_count": 21,
   "id": "c8850354",
   "metadata": {},
   "outputs": [],
   "source": [
    "from selenium import webdriver\n",
    "import time\n",
    "from urllib.request import (urlopen, urlparse, urlunparse, urlretrieve)"
   ]
  },
  {
   "cell_type": "code",
   "execution_count": 22,
   "id": "7911e4e2",
   "metadata": {},
   "outputs": [],
   "source": [
    "chrome_path =\"D:\\바탕화면\\Sfarm\\model\\chromedriver\\chromedriver.exe\"\n",
    "base_url = \"https://www.google.co.kr/imghp\""
   ]
  },
  {
   "cell_type": "markdown",
   "id": "1026452b",
   "metadata": {},
   "source": [
    "### 이미지크롤링테스트"
   ]
  },
  {
   "cell_type": "code",
   "execution_count": 23,
   "id": "47a9ac12",
   "metadata": {},
   "outputs": [
    {
     "name": "stderr",
     "output_type": "stream",
     "text": [
      "C:\\Users\\lkr21\\AppData\\Local\\Temp/ipykernel_18216/551886026.py:11: DeprecationWarning: use options instead of chrome_options\n",
      "  driver = webdriver.Chrome(chrome_path,chrome_options=chrome_options)\n"
     ]
    }
   ],
   "source": [
    "chrome_options = webdriver.ChromeOptions()\n",
    "chrome_options.add_argument('--headless') # 창 없는 모드\n",
    "# headless 모드의 호환성을 위해 아래 옵션 추가(가끔 막는 웹이 있음)\n",
    "chrome_options.add_argument(\"user-agent=Mozilla/5.0 (Macintosh; Intel Mac OS X 10_12_6) AppleWebKit/537.36 (KHTML, like Gecko) Chrome/61.0.3163.100 Safari/537.36\")\n",
    "chrome_options.add_argument(\"lang=ko_KR\") # 한국어\n",
    "chrome_options.add_argument('window-size=1920x1080')\n",
    "chrome_options.add_argument('--no-sandbox')\n",
    "chrome_options.add_argument('--disable-dev-shm-usage')\n",
    "\n",
    "\n",
    "driver = webdriver.Chrome(chrome_path,chrome_options=chrome_options)\n",
    "driver.get(base_url)\n",
    "driver.implicitly_wait(3) # element가 로드될 때까지 지정한 시간만큼 대기할 수 있도록 설정\n",
    "driver.get_screenshot_as_file('google_screen.png')\n",
    "driver.close()\n"
   ]
  },
  {
   "cell_type": "markdown",
   "id": "4fb587a2",
   "metadata": {},
   "source": [
    "### 크롤링 할 이미지 검색"
   ]
  },
  {
   "cell_type": "code",
   "execution_count": 24,
   "id": "b621aa7d",
   "metadata": {},
   "outputs": [],
   "source": [
    "def selenium_scroll_option():\n",
    "  SCROLL_PAUSE_SEC = 3\n",
    "  \n",
    "  # 스크롤 높이 가져옴\n",
    "  last_height = driver.execute_script(\"return document.body.scrollHeight\")\n",
    "  \n",
    "  while True:\n",
    "    # 끝까지 스크롤 다운\n",
    "    driver.execute_script(\"window.scrollTo(0, document.body.scrollHeight);\")\n",
    "\n",
    "    # 1초 대기\n",
    "    time.sleep(SCROLL_PAUSE_SEC)\n",
    "\n",
    "    # 스크롤 다운 후 스크롤 높이 다시 가져옴\n",
    "    new_height = driver.execute_script(\"return document.body.scrollHeight\")\n",
    "  \n",
    "    if new_height == last_height:\n",
    "        break\n",
    "    last_height = new_height\n",
    "\n"
   ]
  },
  {
   "cell_type": "code",
   "execution_count": 25,
   "id": "1098bfa7",
   "metadata": {},
   "outputs": [],
   "source": [
    "# 검색어로 이미지 크롤링 하기\n",
    "wildboar = './wildboar/'\n",
    "whale = './whale/'\n",
    "dolphin= './dolphin/'"
   ]
  },
  {
   "cell_type": "code",
   "execution_count": null,
   "id": "fc7e19d3",
   "metadata": {},
   "outputs": [],
   "source": []
  }
 ],
 "metadata": {
  "kernelspec": {
   "display_name": "Python 3 (ipykernel)",
   "language": "python",
   "name": "python3"
  },
  "language_info": {
   "codemirror_mode": {
    "name": "ipython",
    "version": 3
   },
   "file_extension": ".py",
   "mimetype": "text/x-python",
   "name": "python",
   "nbconvert_exporter": "python",
   "pygments_lexer": "ipython3",
   "version": "3.9.7"
  }
 },
 "nbformat": 4,
 "nbformat_minor": 5
}
