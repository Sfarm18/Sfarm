{
 "cells": [
  {
   "cell_type": "code",
   "execution_count": 10,
   "id": "2804fc88",
   "metadata": {},
   "outputs": [],
   "source": [
    "import torch\n",
    "import torch.nn as nn\n",
    "import torch.optim as optim\n",
    "import torchvision\n",
    "import torchvision.transforms as transforms"
   ]
  },
  {
   "cell_type": "code",
   "execution_count": 11,
   "id": "1ebfa5af",
   "metadata": {},
   "outputs": [],
   "source": [
    "import os\n",
    "import glob\n",
    "\n",
    "path = \"./original\"\n",
    "person = glob.glob(path+\"/person\" + '/*')\n",
    "wildboar = glob.glob(path+\"/wildboar\"+'/*')\n",
    "waterdeer = glob.glob(path+\"/waterdeer\"+'/*')\n",
    "\n",
    "\n",
    "def rename(files):\n",
    "\n",
    "  if 'person' in files[0]:\n",
    "     for i,f in enumerate(files):\n",
    "         os.rename(f, os.path.join(path+\"/person\", 'person_' + '{0:03d}.jpg'.format(i)))\n",
    "     person = glob.glob(path+\"/person\" + '/*')    \n",
    "     print(\"person {}번째 이미지까지 성공\".format(i+1))\n",
    "\n",
    "  elif 'wildboar' in files[0]:\n",
    "     for i,f in enumerate(files):\n",
    "         os.rename(f, os.path.join(path+\"/wildboar\", 'wildboar_' + '{0:03d}.jpg'.format(i)))\n",
    "     wildboar = glob.glob(path+\"/wildboar\"+'/*')\n",
    "     print(\"wildboar {}번째 이미지까지 성공\".format(i+1))\n",
    "\n",
    "  elif 'waterdeer' in files[0]:\n",
    "     for i,f in enumerate(files):\n",
    "         os.rename(f, os.path.join(path+\"/waterdeer\", 'waterdeer' + '{0:03d}.jpg'.format(i)))\n",
    "     waterdeer = glob.glob(path+\"/waterdeer\"+'/*')\n",
    "     print(\"waterdeer {}번째 이미지까지 성공\".format(i+1))"
   ]
  },
  {
   "cell_type": "code",
   "execution_count": 12,
   "id": "51a3f44d",
   "metadata": {},
   "outputs": [
    {
     "name": "stdout",
     "output_type": "stream",
     "text": [
      "person 207번째 이미지까지 성공\n",
      "wildboar 165번째 이미지까지 성공\n",
      "waterdeer 220번째 이미지까지 성공\n"
     ]
    }
   ],
   "source": [
    "rename(person)\n",
    "rename(wildboar)\n",
    "rename(waterdeer)"
   ]
  },
  {
   "cell_type": "code",
   "execution_count": null,
   "id": "3fe4fc68",
   "metadata": {},
   "outputs": [],
   "source": []
  }
 ],
 "metadata": {
  "kernelspec": {
   "display_name": "Python 3 (ipykernel)",
   "language": "python",
   "name": "python3"
  },
  "language_info": {
   "codemirror_mode": {
    "name": "ipython",
    "version": 3
   },
   "file_extension": ".py",
   "mimetype": "text/x-python",
   "name": "python",
   "nbconvert_exporter": "python",
   "pygments_lexer": "ipython3",
   "version": "3.9.13"
  }
 },
 "nbformat": 4,
 "nbformat_minor": 5
}
